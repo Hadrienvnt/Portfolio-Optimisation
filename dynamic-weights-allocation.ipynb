{
 "cells": [
  {
   "cell_type": "markdown",
   "id": "aa79b256",
   "metadata": {},
   "source": [
    "# Introduction"
   ]
  },
  {
   "cell_type": "markdown",
   "id": "d81884e2",
   "metadata": {},
   "source": [
    "### Libraries"
   ]
  },
  {
   "cell_type": "code",
   "execution_count": 1,
   "id": "6ea08a39",
   "metadata": {},
   "outputs": [],
   "source": [
    "import numpy as np\n",
    "import pandas as pd\n",
    "import matplotlib.pyplot as plt\n",
    "import cvxpy as cvx\n",
    "from scipy.linalg import sqrtm\n",
    "np.set_printoptions(suppress=True)      # to avoid scientific notation"
   ]
  },
  {
   "cell_type": "markdown",
   "id": "c01916fe",
   "metadata": {},
   "source": [
    "### Data preparation"
   ]
  },
  {
   "cell_type": "code",
   "execution_count": null,
   "id": "8a4bc71f",
   "metadata": {},
   "outputs": [],
   "source": [
    "# cac40.csv contains adjusted close prices from 2022 Jan to 2025 June \n",
    "cac40 = pd.read_csv('cac40.csv',index_col=\"Date\")\n",
    "cac40_evolution = cac40['^FCHI']/cac40['^FCHI'].iloc[0]\n",
    "\n",
    "returns = cac40.drop(columns=['^FCHI']).pct_change().dropna()\n",
    "tickers = returns.columns\n",
    "T,N = returns.shape"
   ]
  },
  {
   "cell_type": "markdown",
   "id": "bc11b6bb",
   "metadata": {},
   "source": [
    "# Optimisation Problem"
   ]
  },
  {
   "cell_type": "markdown",
   "id": "3e163218",
   "metadata": {},
   "source": [
    "## Weights initialisation"
   ]
  },
  {
   "cell_type": "code",
   "execution_count": null,
   "id": "13389a9a",
   "metadata": {},
   "outputs": [],
   "source": []
  },
  {
   "cell_type": "markdown",
   "id": "63ad10e2",
   "metadata": {},
   "source": [
    "## Dynamic re-allocation"
   ]
  },
  {
   "cell_type": "markdown",
   "id": "9a21be93",
   "metadata": {},
   "source": [
    "# Results analysis"
   ]
  },
  {
   "cell_type": "markdown",
   "id": "66136e3c",
   "metadata": {},
   "source": [
    "## Influence of the time window"
   ]
  },
  {
   "cell_type": "markdown",
   "id": "aeaef395",
   "metadata": {},
   "source": [
    "## Influence of the turnover constraint"
   ]
  }
 ],
 "metadata": {
  "kernelspec": {
   "display_name": "Python 3",
   "language": "python",
   "name": "python3"
  },
  "language_info": {
   "codemirror_mode": {
    "name": "ipython",
    "version": 3
   },
   "file_extension": ".py",
   "mimetype": "text/x-python",
   "name": "python",
   "nbconvert_exporter": "python",
   "pygments_lexer": "ipython3",
   "version": "3.12.0"
  }
 },
 "nbformat": 4,
 "nbformat_minor": 5
}
