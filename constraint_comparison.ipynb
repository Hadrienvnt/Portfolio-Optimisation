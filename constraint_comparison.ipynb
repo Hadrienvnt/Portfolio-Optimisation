{
 "cells": [
  {
   "cell_type": "markdown",
   "id": "3eb2b129",
   "metadata": {},
   "source": [
    "# Introduction"
   ]
  },
  {
   "cell_type": "markdown",
   "id": "e19d37c9",
   "metadata": {},
   "source": [
    "This file first aims to compare different (basic) constraints in portfolio optimisaion, based on their performances: allocation diversity, return, Sharpe ratio. We will focus on the long-only, L/S and leverage constaints with a simple MV optimisation problem. \n",
    "\n",
    "Secondly, viewing the poor diversity of the allocations, we add a risk aversion parameter to the Markowitz problem simuation. We find the best value of it over the first semester of 2025.\n",
    "\n",
    "The basket of assets we use is the CAC40 (the top 40 french firms with biggest capitalisation)."
   ]
  },
  {
   "cell_type": "markdown",
   "id": "d1c5a581",
   "metadata": {},
   "source": [
    "### Libraries"
   ]
  },
  {
   "cell_type": "code",
   "execution_count": 72,
   "id": "16367bd0",
   "metadata": {},
   "outputs": [],
   "source": [
    "import numpy as np\n",
    "import pandas as pd\n",
    "import matplotlib.pyplot as plt\n",
    "import cvxpy as cvx\n",
    "from scipy.optimize import minimize_scalar"
   ]
  },
  {
   "cell_type": "markdown",
   "id": "51d60f60",
   "metadata": {},
   "source": [
    "### Data loading and preparation"
   ]
  },
  {
   "cell_type": "code",
   "execution_count": 73,
   "id": "9f053466",
   "metadata": {},
   "outputs": [],
   "source": [
    "# cac40.csv contains adjusted close prices from 2022 Jan to 2025 June \n",
    "cac40 = pd.read_csv('cac40.csv',index_col=\"Date\")\n",
    "cac40_evolution = cac40['^FCHI']/cac40['^FCHI'].iloc[0]\n",
    "\n",
    "returns = cac40.drop(columns=['^FCHI']).pct_change().dropna()\n",
    "tickers = returns.columns\n",
    "T,N = returns.shape\n",
    "\n",
    "# In sample - 2022 Jan to 2024 Dec.\n",
    "returns_insample = returns.loc[:'2025-01-01']\n",
    "T_in,_ = returns_insample.shape\n",
    "\n",
    "# Out of sample - two first quarters of 2025\n",
    "returns_outsample = returns.loc['2025-01-01':]\n",
    "T_out,_ = returns_outsample.shape"
   ]
  },
  {
   "cell_type": "markdown",
   "id": "430ed61f",
   "metadata": {},
   "source": [
    "# Problems optimisation"
   ]
  },
  {
   "cell_type": "markdown",
   "id": "5dd8cb0c",
   "metadata": {},
   "source": [
    "We approximate the mean of the return by the sample mean, assuming $N_{in} = 438$ is high enough. Similarly, we approximate the covariance matrix by the sample one.\n",
    "\n",
    "Then we compute the solution of the Markowitz formulation: \n",
    "\n",
    "$\\quad\\min_{w} w^T\\Sigma w - \\mu^T w $\n",
    "\n",
    "For three different constraints: \n",
    "- Long-only: $w^T1=1$ and $w>=0$\n",
    "- Long/Short: $w^T1=1$\n",
    "- Long/Short with leverage constraint: $w^T1=1$ and $\\|w\\|_1\\leq 2$"
   ]
  },
  {
   "cell_type": "code",
   "execution_count": 74,
   "id": "bb6cde39",
   "metadata": {},
   "outputs": [],
   "source": [
    "# Compute mean and vairance\n",
    "mu = returns_insample.mean().to_numpy()\n",
    "Sigma = returns_insample.cov().to_numpy()\n",
    "w = cvx.Variable(N)\n",
    "objective = cvx.Minimize(cvx.quad_form(w,Sigma) - w.T@mu)\n",
    "\n",
    "# Long-only \n",
    "constraints = [ w >= 0 , cvx.sum(w) == 1]\n",
    "long_only_pb = cvx.Problem(objective,constraints)\n",
    "long_only_pb.solve()\n",
    "w_lo = w.value\n",
    "\n",
    "# Long/Short, no levrage constaint\n",
    "constraints = [ cvx.sum(w) == 1]\n",
    "long_short_pb = cvx.Problem(objective,constraints)\n",
    "long_short_pb.solve()\n",
    "w_ls = w.value\n",
    "\n",
    "# Long-Short, leverage fixed at 2\n",
    "constraints = [ cvx.sum(w) == 1, cvx.norm1(w) <= 2]\n",
    "leverage_pb = cvx.Problem(objective,constraints)\n",
    "leverage_pb.solve()\n",
    "w_l2 = w.value\n",
    "\n",
    "# Results \n",
    "col_names = [\"Long-only\",\"Long/Short\",\"Leverage-limited\"]\n",
    "weights = np.array([w_lo,w_ls,w_l2]).T\n",
    "weights= np.round(weights,4)"
   ]
  },
  {
   "cell_type": "markdown",
   "id": "15a15672",
   "metadata": {},
   "source": [
    "# Portfolios comparison"
   ]
  },
  {
   "cell_type": "markdown",
   "id": "34dd7f79",
   "metadata": {},
   "source": [
    "First, let's take a glance at the different allocations"
   ]
  },
  {
   "cell_type": "code",
   "execution_count": 75,
   "id": "76b9eb1d",
   "metadata": {},
   "outputs": [
    {
     "data": {
      "application/vnd.microsoft.datawrangler.viewer.v0+json": {
       "columns": [
        {
         "name": "index",
         "rawType": "object",
         "type": "string"
        },
        {
         "name": "Long-only",
         "rawType": "float64",
         "type": "float"
        },
        {
         "name": "Long/Short",
         "rawType": "float64",
         "type": "float"
        },
        {
         "name": "Leverage-limited",
         "rawType": "float64",
         "type": "float"
        }
       ],
       "ref": "2ab02220-cbbd-4aa9-b140-3eb5241f02a5",
       "rows": [
        [
         "AC.PA",
         "-0.0",
         "2.9005",
         "0.1373"
        ],
        [
         "ACA.PA",
         "0.0",
         "2.9775",
         "-0.0"
        ],
        [
         "AI.PA",
         "0.0",
         "-1.3477",
         "0.0"
        ],
        [
         "AIR.PA",
         "0.0",
         "0.5138",
         "0.0"
        ],
        [
         "BN.PA",
         "-0.0",
         "5.1257",
         "0.0"
        ],
        [
         "BNP.PA",
         "0.0",
         "-0.7782",
         "-0.0"
        ],
        [
         "BVI.PA",
         "0.0",
         "-1.1592",
         "-0.0"
        ],
        [
         "CA.PA",
         "0.0",
         "-1.5972",
         "-0.0"
        ],
        [
         "CAP.PA",
         "0.0",
         "1.1641",
         "-0.0"
        ],
        [
         "CS.PA",
         "0.0",
         "0.7241",
         "0.0"
        ],
        [
         "DG.PA",
         "0.0",
         "-4.561",
         "-0.0"
        ],
        [
         "DSY.PA",
         "0.0",
         "-1.3903",
         "-0.0"
        ],
        [
         "EDEN.PA",
         "-0.0",
         "-1.5482",
         "0.0"
        ],
        [
         "EL.PA",
         "-0.0",
         "2.8228",
         "-0.0"
        ],
        [
         "EN.PA",
         "0.0",
         "-0.7627",
         "-0.0"
        ],
        [
         "ENGI.PA",
         "0.0",
         "2.9928",
         "0.0"
        ],
        [
         "ERF.PA",
         "0.0",
         "-0.5961",
         "-0.0"
        ],
        [
         "GLE.PA",
         "0.0",
         "1.8993",
         "0.0"
        ],
        [
         "HO.PA",
         "0.0",
         "-2.4546",
         "0.0"
        ],
        [
         "KER.PA",
         "-0.0",
         "-2.6611",
         "-0.4399"
        ],
        [
         "LR.PA",
         "0.0",
         "-3.9386",
         "0.0"
        ],
        [
         "MC.PA",
         "-0.0",
         "-1.5827",
         "-0.0"
        ],
        [
         "ML.PA",
         "0.0",
         "0.6657",
         "0.0"
        ],
        [
         "MT.AS",
         "0.0",
         "-1.5804",
         "-0.0"
        ],
        [
         "OR.PA",
         "0.0",
         "-1.2431",
         "-0.0"
        ],
        [
         "ORA.PA",
         "0.0",
         "-1.417",
         "0.0"
        ],
        [
         "PUB.PA",
         "0.0",
         "2.9454",
         "0.0"
        ],
        [
         "RI.PA",
         "0.0",
         "-3.5754",
         "0.0"
        ],
        [
         "RMS.PA",
         "0.0",
         "3.6845",
         "-0.0"
        ],
        [
         "RNO.PA",
         "0.0",
         "-0.423",
         "-0.0"
        ],
        [
         "SAF.PA",
         "-0.0",
         "0.5033",
         "0.0167"
        ],
        [
         "SAN.PA",
         "0.0",
         "-0.0275",
         "0.0"
        ],
        [
         "SGO.PA",
         "1.0",
         "5.3879",
         "1.2602"
        ],
        [
         "STLAP.PA",
         "0.0",
         "0.0379",
         "-0.0"
        ],
        [
         "STMPA.PA",
         "0.0",
         "-2.5106",
         "-0.0"
        ],
        [
         "SU.PA",
         "0.0",
         "3.6842",
         "0.0859"
        ],
        [
         "TEP.PA",
         "-0.0",
         "-0.9985",
         "-0.0601"
        ],
        [
         "TTE.PA",
         "0.0",
         "-1.3809",
         "-0.0"
        ],
        [
         "URW.PA",
         "0.0",
         "2.6385",
         "-0.0"
        ],
        [
         "VIE.PA",
         "0.0",
         "-2.1343",
         "-0.0"
        ]
       ],
       "shape": {
        "columns": 3,
        "rows": 40
       }
      },
      "text/html": [
       "<div>\n",
       "<style scoped>\n",
       "    .dataframe tbody tr th:only-of-type {\n",
       "        vertical-align: middle;\n",
       "    }\n",
       "\n",
       "    .dataframe tbody tr th {\n",
       "        vertical-align: top;\n",
       "    }\n",
       "\n",
       "    .dataframe thead th {\n",
       "        text-align: right;\n",
       "    }\n",
       "</style>\n",
       "<table border=\"1\" class=\"dataframe\">\n",
       "  <thead>\n",
       "    <tr style=\"text-align: right;\">\n",
       "      <th></th>\n",
       "      <th>Long-only</th>\n",
       "      <th>Long/Short</th>\n",
       "      <th>Leverage-limited</th>\n",
       "    </tr>\n",
       "  </thead>\n",
       "  <tbody>\n",
       "    <tr>\n",
       "      <th>AC.PA</th>\n",
       "      <td>-0.0</td>\n",
       "      <td>2.9005</td>\n",
       "      <td>0.1373</td>\n",
       "    </tr>\n",
       "    <tr>\n",
       "      <th>ACA.PA</th>\n",
       "      <td>0.0</td>\n",
       "      <td>2.9775</td>\n",
       "      <td>-0.0000</td>\n",
       "    </tr>\n",
       "    <tr>\n",
       "      <th>AI.PA</th>\n",
       "      <td>0.0</td>\n",
       "      <td>-1.3477</td>\n",
       "      <td>0.0000</td>\n",
       "    </tr>\n",
       "    <tr>\n",
       "      <th>AIR.PA</th>\n",
       "      <td>0.0</td>\n",
       "      <td>0.5138</td>\n",
       "      <td>0.0000</td>\n",
       "    </tr>\n",
       "    <tr>\n",
       "      <th>BN.PA</th>\n",
       "      <td>-0.0</td>\n",
       "      <td>5.1257</td>\n",
       "      <td>0.0000</td>\n",
       "    </tr>\n",
       "    <tr>\n",
       "      <th>BNP.PA</th>\n",
       "      <td>0.0</td>\n",
       "      <td>-0.7782</td>\n",
       "      <td>-0.0000</td>\n",
       "    </tr>\n",
       "    <tr>\n",
       "      <th>BVI.PA</th>\n",
       "      <td>0.0</td>\n",
       "      <td>-1.1592</td>\n",
       "      <td>-0.0000</td>\n",
       "    </tr>\n",
       "    <tr>\n",
       "      <th>CA.PA</th>\n",
       "      <td>0.0</td>\n",
       "      <td>-1.5972</td>\n",
       "      <td>-0.0000</td>\n",
       "    </tr>\n",
       "    <tr>\n",
       "      <th>CAP.PA</th>\n",
       "      <td>0.0</td>\n",
       "      <td>1.1641</td>\n",
       "      <td>-0.0000</td>\n",
       "    </tr>\n",
       "    <tr>\n",
       "      <th>CS.PA</th>\n",
       "      <td>0.0</td>\n",
       "      <td>0.7241</td>\n",
       "      <td>0.0000</td>\n",
       "    </tr>\n",
       "    <tr>\n",
       "      <th>DG.PA</th>\n",
       "      <td>0.0</td>\n",
       "      <td>-4.5610</td>\n",
       "      <td>-0.0000</td>\n",
       "    </tr>\n",
       "    <tr>\n",
       "      <th>DSY.PA</th>\n",
       "      <td>0.0</td>\n",
       "      <td>-1.3903</td>\n",
       "      <td>-0.0000</td>\n",
       "    </tr>\n",
       "    <tr>\n",
       "      <th>EDEN.PA</th>\n",
       "      <td>-0.0</td>\n",
       "      <td>-1.5482</td>\n",
       "      <td>0.0000</td>\n",
       "    </tr>\n",
       "    <tr>\n",
       "      <th>EL.PA</th>\n",
       "      <td>-0.0</td>\n",
       "      <td>2.8228</td>\n",
       "      <td>-0.0000</td>\n",
       "    </tr>\n",
       "    <tr>\n",
       "      <th>EN.PA</th>\n",
       "      <td>0.0</td>\n",
       "      <td>-0.7627</td>\n",
       "      <td>-0.0000</td>\n",
       "    </tr>\n",
       "    <tr>\n",
       "      <th>ENGI.PA</th>\n",
       "      <td>0.0</td>\n",
       "      <td>2.9928</td>\n",
       "      <td>0.0000</td>\n",
       "    </tr>\n",
       "    <tr>\n",
       "      <th>ERF.PA</th>\n",
       "      <td>0.0</td>\n",
       "      <td>-0.5961</td>\n",
       "      <td>-0.0000</td>\n",
       "    </tr>\n",
       "    <tr>\n",
       "      <th>GLE.PA</th>\n",
       "      <td>0.0</td>\n",
       "      <td>1.8993</td>\n",
       "      <td>0.0000</td>\n",
       "    </tr>\n",
       "    <tr>\n",
       "      <th>HO.PA</th>\n",
       "      <td>0.0</td>\n",
       "      <td>-2.4546</td>\n",
       "      <td>0.0000</td>\n",
       "    </tr>\n",
       "    <tr>\n",
       "      <th>KER.PA</th>\n",
       "      <td>-0.0</td>\n",
       "      <td>-2.6611</td>\n",
       "      <td>-0.4399</td>\n",
       "    </tr>\n",
       "    <tr>\n",
       "      <th>LR.PA</th>\n",
       "      <td>0.0</td>\n",
       "      <td>-3.9386</td>\n",
       "      <td>0.0000</td>\n",
       "    </tr>\n",
       "    <tr>\n",
       "      <th>MC.PA</th>\n",
       "      <td>-0.0</td>\n",
       "      <td>-1.5827</td>\n",
       "      <td>-0.0000</td>\n",
       "    </tr>\n",
       "    <tr>\n",
       "      <th>ML.PA</th>\n",
       "      <td>0.0</td>\n",
       "      <td>0.6657</td>\n",
       "      <td>0.0000</td>\n",
       "    </tr>\n",
       "    <tr>\n",
       "      <th>MT.AS</th>\n",
       "      <td>0.0</td>\n",
       "      <td>-1.5804</td>\n",
       "      <td>-0.0000</td>\n",
       "    </tr>\n",
       "    <tr>\n",
       "      <th>OR.PA</th>\n",
       "      <td>0.0</td>\n",
       "      <td>-1.2431</td>\n",
       "      <td>-0.0000</td>\n",
       "    </tr>\n",
       "    <tr>\n",
       "      <th>ORA.PA</th>\n",
       "      <td>0.0</td>\n",
       "      <td>-1.4170</td>\n",
       "      <td>0.0000</td>\n",
       "    </tr>\n",
       "    <tr>\n",
       "      <th>PUB.PA</th>\n",
       "      <td>0.0</td>\n",
       "      <td>2.9454</td>\n",
       "      <td>0.0000</td>\n",
       "    </tr>\n",
       "    <tr>\n",
       "      <th>RI.PA</th>\n",
       "      <td>0.0</td>\n",
       "      <td>-3.5754</td>\n",
       "      <td>0.0000</td>\n",
       "    </tr>\n",
       "    <tr>\n",
       "      <th>RMS.PA</th>\n",
       "      <td>0.0</td>\n",
       "      <td>3.6845</td>\n",
       "      <td>-0.0000</td>\n",
       "    </tr>\n",
       "    <tr>\n",
       "      <th>RNO.PA</th>\n",
       "      <td>0.0</td>\n",
       "      <td>-0.4230</td>\n",
       "      <td>-0.0000</td>\n",
       "    </tr>\n",
       "    <tr>\n",
       "      <th>SAF.PA</th>\n",
       "      <td>-0.0</td>\n",
       "      <td>0.5033</td>\n",
       "      <td>0.0167</td>\n",
       "    </tr>\n",
       "    <tr>\n",
       "      <th>SAN.PA</th>\n",
       "      <td>0.0</td>\n",
       "      <td>-0.0275</td>\n",
       "      <td>0.0000</td>\n",
       "    </tr>\n",
       "    <tr>\n",
       "      <th>SGO.PA</th>\n",
       "      <td>1.0</td>\n",
       "      <td>5.3879</td>\n",
       "      <td>1.2602</td>\n",
       "    </tr>\n",
       "    <tr>\n",
       "      <th>STLAP.PA</th>\n",
       "      <td>0.0</td>\n",
       "      <td>0.0379</td>\n",
       "      <td>-0.0000</td>\n",
       "    </tr>\n",
       "    <tr>\n",
       "      <th>STMPA.PA</th>\n",
       "      <td>0.0</td>\n",
       "      <td>-2.5106</td>\n",
       "      <td>-0.0000</td>\n",
       "    </tr>\n",
       "    <tr>\n",
       "      <th>SU.PA</th>\n",
       "      <td>0.0</td>\n",
       "      <td>3.6842</td>\n",
       "      <td>0.0859</td>\n",
       "    </tr>\n",
       "    <tr>\n",
       "      <th>TEP.PA</th>\n",
       "      <td>-0.0</td>\n",
       "      <td>-0.9985</td>\n",
       "      <td>-0.0601</td>\n",
       "    </tr>\n",
       "    <tr>\n",
       "      <th>TTE.PA</th>\n",
       "      <td>0.0</td>\n",
       "      <td>-1.3809</td>\n",
       "      <td>-0.0000</td>\n",
       "    </tr>\n",
       "    <tr>\n",
       "      <th>URW.PA</th>\n",
       "      <td>0.0</td>\n",
       "      <td>2.6385</td>\n",
       "      <td>-0.0000</td>\n",
       "    </tr>\n",
       "    <tr>\n",
       "      <th>VIE.PA</th>\n",
       "      <td>0.0</td>\n",
       "      <td>-2.1343</td>\n",
       "      <td>-0.0000</td>\n",
       "    </tr>\n",
       "  </tbody>\n",
       "</table>\n",
       "</div>"
      ],
      "text/plain": [
       "          Long-only  Long/Short  Leverage-limited\n",
       "AC.PA          -0.0      2.9005            0.1373\n",
       "ACA.PA          0.0      2.9775           -0.0000\n",
       "AI.PA           0.0     -1.3477            0.0000\n",
       "AIR.PA          0.0      0.5138            0.0000\n",
       "BN.PA          -0.0      5.1257            0.0000\n",
       "BNP.PA          0.0     -0.7782           -0.0000\n",
       "BVI.PA          0.0     -1.1592           -0.0000\n",
       "CA.PA           0.0     -1.5972           -0.0000\n",
       "CAP.PA          0.0      1.1641           -0.0000\n",
       "CS.PA           0.0      0.7241            0.0000\n",
       "DG.PA           0.0     -4.5610           -0.0000\n",
       "DSY.PA          0.0     -1.3903           -0.0000\n",
       "EDEN.PA        -0.0     -1.5482            0.0000\n",
       "EL.PA          -0.0      2.8228           -0.0000\n",
       "EN.PA           0.0     -0.7627           -0.0000\n",
       "ENGI.PA         0.0      2.9928            0.0000\n",
       "ERF.PA          0.0     -0.5961           -0.0000\n",
       "GLE.PA          0.0      1.8993            0.0000\n",
       "HO.PA           0.0     -2.4546            0.0000\n",
       "KER.PA         -0.0     -2.6611           -0.4399\n",
       "LR.PA           0.0     -3.9386            0.0000\n",
       "MC.PA          -0.0     -1.5827           -0.0000\n",
       "ML.PA           0.0      0.6657            0.0000\n",
       "MT.AS           0.0     -1.5804           -0.0000\n",
       "OR.PA           0.0     -1.2431           -0.0000\n",
       "ORA.PA          0.0     -1.4170            0.0000\n",
       "PUB.PA          0.0      2.9454            0.0000\n",
       "RI.PA           0.0     -3.5754            0.0000\n",
       "RMS.PA          0.0      3.6845           -0.0000\n",
       "RNO.PA          0.0     -0.4230           -0.0000\n",
       "SAF.PA         -0.0      0.5033            0.0167\n",
       "SAN.PA          0.0     -0.0275            0.0000\n",
       "SGO.PA          1.0      5.3879            1.2602\n",
       "STLAP.PA        0.0      0.0379           -0.0000\n",
       "STMPA.PA        0.0     -2.5106           -0.0000\n",
       "SU.PA           0.0      3.6842            0.0859\n",
       "TEP.PA         -0.0     -0.9985           -0.0601\n",
       "TTE.PA          0.0     -1.3809           -0.0000\n",
       "URW.PA          0.0      2.6385           -0.0000\n",
       "VIE.PA          0.0     -2.1343           -0.0000"
      ]
     },
     "execution_count": 75,
     "metadata": {},
     "output_type": "execute_result"
    }
   ],
   "source": [
    "weights = pd.DataFrame(weights,index=tickers,columns=col_names)\n",
    "weights"
   ]
  },
  {
   "cell_type": "markdown",
   "id": "63bac011",
   "metadata": {},
   "source": [
    "First observation: the long-only portfolio contains only one stock and the L/S one took position for every single stock!\n",
    "\n",
    "Now, let's compute the evolution of the wealth of each portfolio compared to the market (CAC40)."
   ]
  },
  {
   "cell_type": "code",
   "execution_count": 76,
   "id": "c730b408",
   "metadata": {},
   "outputs": [
    {
     "data": {
      "image/png": "[encoded data removed]",
      "text/plain": [
       "<Figure size 640x480 with 1 Axes>"
      ]
     },
     "metadata": {},
     "output_type": "display_data"
    }
   ],
   "source": [
    "# Wealth evolution\n",
    "portfolios_returns = returns_outsample@weights\n",
    "portfolios_returns['CAC40'] = cac40_evolution.pct_change().dropna()\n",
    "portfolios_evolution = (1+portfolios_returns).cumprod()\n",
    "\n",
    "portfolios_evolution.plot()\n",
    "plt.title('Evolution of the wealth of the portfolios')\n",
    "plt.show()"
   ]
  },
  {
   "cell_type": "markdown",
   "id": "e70c6f5a",
   "metadata": {},
   "source": [
    "Everyone can see that the L/S portfolio without any leverage constaint performs terribly. By looking in details in the computed weights, we found out that some risky short positions have been taken, that finally turned out badly. We can cite Danone (DG.PA) and Legrand SA (LR.PA) weighted respectively at -456% and -393%. \n",
    "\n",
    "Let's drop the L/S portfolio without leverage constraint and compare more attentively the two remaining allocations."
   ]
  },
  {
   "cell_type": "code",
   "execution_count": 77,
   "id": "eb37ce62",
   "metadata": {},
   "outputs": [
    {
     "name": "stdout",
     "output_type": "stream",
     "text": [
      "        Long-only  Leverage-limited\n",
      "AC.PA        -0.0            0.1373\n",
      "KER.PA       -0.0           -0.4399\n",
      "SAF.PA       -0.0            0.0167\n",
      "SGO.PA        1.0            1.2602\n",
      "SU.PA         0.0            0.0859\n",
      "TEP.PA       -0.0           -0.0601\n"
     ]
    }
   ],
   "source": [
    "# Allocation analysis\n",
    "allocation = weights[(weights[[\"Long-only\",\"Leverage-limited\"]]!=0).any(axis=1)]\n",
    "print(allocation[[\"Long-only\",\"Leverage-limited\"]])"
   ]
  },
  {
   "cell_type": "code",
   "execution_count": 78,
   "id": "f43e0f01",
   "metadata": {},
   "outputs": [
    {
     "name": "stdout",
     "output_type": "stream",
     "text": [
      "                  number  return     std      SR     MDD     VaR    CVaR\n",
      "Long-only            1.0  0.4191  0.3786  1.0435 -0.2771  0.0393  0.0511\n",
      "Long/Short          40.0  2.6125  4.1801  0.6192 -0.9961  0.4407  0.5821\n",
      "Leverage-limited     6.0  0.6744  0.4735  1.3737 -0.2440  0.0373  0.0560\n",
      "CAC40               40.0  0.0940  0.1877  0.3730 -0.1637  0.0157  0.0297\n"
     ]
    }
   ],
   "source": [
    "# (Annualised) performances\n",
    "annualised_returns = 252*portfolios_returns.mean()\n",
    "annualised_std = np.sqrt(252)*portfolios_returns.std()\n",
    "\n",
    "r_f = 0.024                     # Livret A (French savings account) returns for Q1 and Q2 of 2025\n",
    "annualised_SR = (annualised_returns-r_f)/annualised_std\n",
    "\n",
    "# Maximum drawdown\n",
    "mdd = (portfolios_evolution/portfolios_evolution.cummax()-1).min()\n",
    "\n",
    "# VaR and CVaR with L = - r@w\n",
    "alpha = 0.95\n",
    "loss = - portfolios_returns\n",
    "var = loss.quantile(alpha)             # VaR = Q_L(0.95) = Q_r(0.05)\n",
    "cvar = (loss[loss>=var]).mean()        # CVaR = E[L|L>=VaR]\n",
    "\n",
    "# Summary of metrics\n",
    "number = (weights!=0).sum()\n",
    "number['cac40'] = 40\n",
    "#print(number,annualised_returns,annualised_std,annualised_SR,mdd,var,cvar)\n",
    "summary = np.array([number,annualised_returns,annualised_std,annualised_SR,mdd,var,cvar]).T\n",
    "summary = pd.DataFrame(np.round(summary,4),index=portfolios_returns.columns,columns=['number','return','std','SR','MDD','VaR','CVaR'])\n",
    "print(summary)"
   ]
  },
  {
   "cell_type": "markdown",
   "id": "550fb5cd",
   "metadata": {},
   "source": [
    "The long-only consists in only one stock, Saint-Gobain (SGO.PA), and the leverage-limited one has only 6 stocks. Hence the conclusion is that they are both very risky from a diversification point of view. Indeed, 4 among those 6 are in the the sector fo Industiral according to GICS. This risk is clearly captured by the very high standard deviations of those portfolio compared to the market: more than twice more risky!\n",
    "\n",
    "Although they are risky, these portfolios are very effective, having 41.91% and 67.44% in annualised average returns during one semester. Finally, we compute their sharpe ratio using the french saving account (fixed at an annualised interest rate of 2.4% during 2025 first semester). Due to their bad standard deviation, the Sharpe ratio of the Long-Only and leverage-limited are not that good and don't allow to pick one performative allocation.\n",
    "\n",
    "Finally, the Long/Short leverage-limited portfolio is a first step toward a portfolio fixed allocation. A dynamic allocation will be the topic of another latter file. For instance, we will try to diversify this portfolio by balancing the mean and variance in the optimisation problem. To that end, we add a risk aversion parameter $\\lambda > 0$ and we try to find its best value."
   ]
  },
  {
   "cell_type": "markdown",
   "id": "9fa8a4d3",
   "metadata": {},
   "source": [
    "# Diversification using risk aversion"
   ]
  },
  {
   "cell_type": "markdown",
   "id": "9a8c7ea6",
   "metadata": {},
   "source": [
    "## Step 0 - where to go?"
   ]
  },
  {
   "cell_type": "markdown",
   "id": "2ab14242",
   "metadata": {},
   "source": [
    "If only a few stocks are picked, two options : either they have a high return or a low volatility. To find out in which side we should balance the MV problem, let's look at the Saint-Gobin (SGO - the only stock selected in the long-only optimisation) return and variance compared to the market, approximated by the mean of all the stocks in CAC40."
   ]
  },
  {
   "cell_type": "code",
   "execution_count": 79,
   "id": "89f088e8",
   "metadata": {},
   "outputs": [
    {
     "name": "stdout",
     "output_type": "stream",
     "text": [
      "Average return: 0.00018, SGO return: 0.00141\n",
      "Average vol: 0.00022, SGO vol: 0.00021\n"
     ]
    }
   ],
   "source": [
    "# For the returns\n",
    "avg_returns_is= returns_insample.mean()                  # Series version of mu\n",
    "print(f'Average return: {avg_returns_is.mean():.5f}, SGO return: {avg_returns_is['SGO.PA']:.5f}')\n",
    "# We use .trace()/N instead of .mean() to not consider covarances\n",
    "cov_matrix = returns_insample.cov()                  # DataFrame version of Sigma\n",
    "print(f'Average vol: {Sigma.trace()/N:.5f}, SGO vol: {cov_matrix['SGO.PA'].loc['SGO.PA']:.5f}')"
   ]
  },
  {
   "cell_type": "markdown",
   "id": "4da932fe",
   "metadata": {},
   "source": [
    "One can see that SGO return is almost ten times higher than the average, whereas the volatility (variance) is very similar to the market. This allows to claim that return are overweighted in the problem formulation. Therefore, we search $\\lambda>1$ in a problem formulation such as:\n",
    "\n",
    "$\\quad\\min_{w} \\lambda w^T\\Sigma w - \\mu^T w $\n",
    "\n",
    "to balance the returns."
   ]
  },
  {
   "cell_type": "markdown",
   "id": "8be88ac4",
   "metadata": {},
   "source": [
    "## Optimisation for different $\\lambda$ values"
   ]
  },
  {
   "cell_type": "code",
   "execution_count": 80,
   "id": "f281a6e0",
   "metadata": {},
   "outputs": [],
   "source": [
    "# Lambda tweaking\n",
    "lambdas = [1,2,5,10,14,15,16,20]\n",
    "riskaverse_weights = pd.DataFrame(index=tickers,columns=lambdas)\n",
    "\n",
    "\n",
    "constraints = [ cvx.sum(w) == 1, cvx.norm1(w) <= 2]\n",
    "for l in lambdas : \n",
    "    objective = cvx.Minimize(l*cvx.quad_form(w,Sigma) - mu.T@w)\n",
    "    problem = cvx.Problem(objective,constraints)\n",
    "    problem.solve()\n",
    "    riskaverse_weights[l] = np.round(w.value,5)"
   ]
  },
  {
   "cell_type": "markdown",
   "id": "2f77f441",
   "metadata": {},
   "source": [
    "## Comparison of the perfomances"
   ]
  },
  {
   "cell_type": "code",
   "execution_count": 81,
   "id": "17b0240a",
   "metadata": {},
   "outputs": [
    {
     "data": {
      "image/png": "[encoded data removed]",
      "text/plain": [
       "<Figure size 640x480 with 1 Axes>"
      ]
     },
     "metadata": {},
     "output_type": "display_data"
    }
   ],
   "source": [
    "# Number of stocks in the portfolio\n",
    "riskaverse_number = (riskaverse_weights!=0).sum()\n",
    "riskaverse_number.plot(kind='bar')\n",
    "plt.title('Number of stocks in the portfolios')\n",
    "plt.xlabel('lambda')\n",
    "plt.ylabel('# of stocks')\n",
    "plt.show()"
   ]
  },
  {
   "cell_type": "code",
   "execution_count": 82,
   "id": "663b4a80",
   "metadata": {},
   "outputs": [
    {
     "data": {
      "image/png": "[encoded data removed]",
      "text/plain": [
       "<Figure size 640x480 with 1 Axes>"
      ]
     },
     "metadata": {},
     "output_type": "display_data"
    }
   ],
   "source": [
    "# Returns comparison \n",
    "riskaverse_returns_insample = returns_insample@riskaverse_weights\n",
    "riskaverse_evolution_insample = (1+riskaverse_returns_insample).cumprod()\n",
    "riskaverse_evolution_insample.plot()\n",
    "\n",
    "plt.title('Return of the different portfolios')\n",
    "plt.show()"
   ]
  },
  {
   "cell_type": "code",
   "execution_count": 83,
   "id": "a06eec72",
   "metadata": {},
   "outputs": [
    {
     "name": "stdout",
     "output_type": "stream",
     "text": [
      "    number  return     std      SR     MDD     VaR    CVaR\n",
      "1      6.0  0.7290  0.2869  2.4570 -0.1700  0.0259  0.0375\n",
      "2      7.0  0.6955  0.2399  2.7993 -0.1313  0.0230  0.0312\n",
      "5     12.0  0.6137  0.1761  3.3486 -0.0975  0.0171  0.0225\n",
      "10    15.0  0.5322  0.1379  3.6846 -0.0846  0.0128  0.0173\n",
      "14    17.0  0.5017  0.1283  3.7241 -0.0789  0.0119  0.0160\n",
      "15    18.0  0.4938  0.1261  3.7246 -0.0779  0.0117  0.0158\n",
      "16    19.0  0.4828  0.1233  3.7210 -0.0768  0.0113  0.0155\n",
      "20    30.0  0.4358  0.1121  3.6749 -0.0717  0.0101  0.0142\n"
     ]
    }
   ],
   "source": [
    "# Portfolio annualised performances\n",
    "annualised_returns_insample = 252*riskaverse_returns_insample.mean()\n",
    "annualised_std_insample = np.sqrt(252)*riskaverse_returns_insample.std()\n",
    "annualised_SR_insample = (annualised_returns_insample - r_f) / annualised_std_insample\n",
    "\n",
    "# Maximum drawdown\n",
    "mdd_insample = (riskaverse_evolution_insample/riskaverse_evolution_insample.cummax()-1).min()\n",
    "\n",
    "# VaR and CVaR: L = - r@w\n",
    "loss_insample = - riskaverse_returns_insample\n",
    "var_insample = loss_insample.quantile(alpha)                               # VaR = Q_L(0.95) = Q_r(0.05)\n",
    "cvar_insample = (loss_insample[loss_insample>=var_insample]).mean()        # CVaR = E[L|L>=VaR]\n",
    "\n",
    "# Summary of metrics\n",
    "summary_insample = np.array([riskaverse_number,annualised_returns_insample,annualised_std_insample,annualised_SR_insample,mdd_insample,var_insample,cvar_insample]).T\n",
    "summary_insample = pd.DataFrame(np.round(summary_insample,4),index=riskaverse_returns_insample.columns,columns=['number','return','std','SR','MDD','VaR','CVaR'])\n",
    "print(summary_insample)"
   ]
  },
  {
   "cell_type": "markdown",
   "id": "25c17ccd",
   "metadata": {},
   "source": [
    "Here, one can see that the greater $\\lambda$ is, the lower the standard deviation, the maximum drawdown, the value at risk and the expected shortfall (CVaR) are. This is consistent with the fact that $\\lambda >1$ intensifies the risk importance in the Mean-Variance optimisation prolbem. \n",
    "\n",
    "So to have a compromise between high return and low risk, we can pick a value for $\\lambda$ based on the Sharpe ratio. It yields that the best value seems to be between 14 and 15, let's compute the optimal value!"
   ]
  },
  {
   "cell_type": "code",
   "execution_count": 103,
   "id": "48b574ba",
   "metadata": {},
   "outputs": [
    {
     "name": "stdout",
     "output_type": "stream",
     "text": [
      " message: Solution found.\n",
      " success: True\n",
      "  status: 0\n",
      "     fun: -3.724809747079197\n",
      "       x: 14.677270651853108\n",
      "     nit: 9\n",
      "    nfev: 9\n"
     ]
    }
   ],
   "source": [
    "def negative_sharpe_rartio(l):\n",
    "    w = cvx.Variable(N)\n",
    "    constraints = [ cvx.sum(w) == 1, cvx.norm1(w) <= 2]\n",
    "    objective = cvx.Minimize(l*cvx.quad_form(w,Sigma) - mu.T@w)\n",
    "    problem = cvx.Problem(objective,constraints)\n",
    "    problem.solve()\n",
    "\n",
    "    weight = w.value\n",
    "    r_p = returns_insample@weight\n",
    "    SR = (252*r_p.mean()-r_f)/(np.sqrt(252)*r_p.std())\n",
    "\n",
    "    return - SR\n",
    "\n",
    "lambda_optimisation = minimize_scalar(negative_sharpe_rartio,bounds=(14,15),method='bounded')\n",
    "print(lambda_optimisation)"
   ]
  },
  {
   "cell_type": "markdown",
   "id": "3f1ea642",
   "metadata": {},
   "source": [
    "Perfect, the solution has been founded and is around 14.68! Let's check its performances for the out of sample data."
   ]
  },
  {
   "cell_type": "code",
   "execution_count": 98,
   "id": "4740045a",
   "metadata": {},
   "outputs": [
    {
     "name": "stdout",
     "output_type": "stream",
     "text": [
      "             number  return     std      SR     VaR   CVaR\n",
      "best lambda    18.0  0.4272  0.2092  1.9275  0.0141  0.028\n"
     ]
    }
   ],
   "source": [
    "best_lambda = np.round(lambda_optimisation.x,2)\n",
    "\n",
    "def oos_performances(l):\n",
    "    w = cvx.Variable(N)\n",
    "    constraints = [ cvx.sum(w) == 1, cvx.norm1(w) <= 2]\n",
    "    objective = cvx.Minimize(l*cvx.quad_form(w,Sigma) - mu.T@w)\n",
    "    problem = cvx.Problem(objective,constraints)\n",
    "    problem.solve()\n",
    "    weight = np.round(w.value,4)\n",
    "\n",
    "    number = (weight!=0).sum()\n",
    "\n",
    "    r_p = returns_outsample@weight\n",
    "    avg_returns = 252*r_p.mean()\n",
    "    std = np.sqrt(252)*r_p.std()\n",
    "    SR_oos = (avg_returns-r_f)/std\n",
    "\n",
    "    loss_oos = - r_p\n",
    "    var_oos = loss_oos.quantile(0.95)\n",
    "    cvar_oos = loss_oos[loss_oos>=var_oos].mean()\n",
    "\n",
    "    return number,avg_returns,std,SR_oos,var_oos,cvar_oos\n",
    "\n",
    "best_summary = np.array(oos_performances(best_lambda)).reshape((1,6))\n",
    "best_summary = pd.DataFrame(np.round(best_summary,4),index=['best lambda'], columns=['number','return','std','SR','VaR','CVaR'])\n",
    "print(best_summary)"
   ]
  },
  {
   "cell_type": "markdown",
   "id": "e7b13db2",
   "metadata": {},
   "source": [
    "So now we finally found a better weights allocation thanks to the risk aversion parameter: \n",
    "- The number of stocks rises from 6 to 18.\n",
    "- The standard deviation drops from 0.47 to 0.21.\n",
    "- Even though the average return shrank, the Sharpe ratio increases from 1.37 to 1.93. \n",
    "- The VaR and CVaR drop respectively from 0.037 to 0.014 and from 0.056 to 0.028.\n",
    "\n",
    "With a Sharpe ratio greather than 1.92 and a number of stocks of 18, this allocation could be implemented easily and have very decent performances."
   ]
  }
 ],
 "metadata": {
  "kernelspec": {
   "display_name": "Python 3",
   "language": "python",
   "name": "python3"
  },
  "language_info": {
   "codemirror_mode": {
    "name": "ipython",
    "version": 3
   },
   "file_extension": ".py",
   "mimetype": "text/x-python",
   "name": "python",
   "nbconvert_exporter": "python",
   "pygments_lexer": "ipython3",
   "version": "3.12.0"
  }
 },
 "nbformat": 4,
 "nbformat_minor": 5
}
