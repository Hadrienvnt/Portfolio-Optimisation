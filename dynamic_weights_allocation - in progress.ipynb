{
 "cells": [
  {
   "cell_type": "markdown",
   "id": "aa79b256",
   "metadata": {},
   "source": [
    "# Introduction"
   ]
  },
  {
   "cell_type": "markdown",
   "id": "d81884e2",
   "metadata": {},
   "source": [
    "### Libraries"
   ]
  },
  {
   "cell_type": "code",
   "execution_count": 52,
   "id": "6ea08a39",
   "metadata": {},
   "outputs": [],
   "source": [
    "import numpy as np\n",
    "import pandas as pd\n",
    "import matplotlib.pyplot as plt\n",
    "import cvxpy as cvx\n",
    "from scipy.linalg import sqrtm\n",
    "np.set_printoptions(suppress=True)      # to avoid scientific notation"
   ]
  },
  {
   "cell_type": "markdown",
   "id": "c01916fe",
   "metadata": {},
   "source": [
    "### Data preparation"
   ]
  },
  {
   "cell_type": "code",
   "execution_count": 53,
   "id": "8a4bc71f",
   "metadata": {},
   "outputs": [],
   "source": [
    "# cac40.csv contains adjusted close prices from 2023 April to 2025 June \n",
    "cac40 = pd.read_csv('cac40.csv',index_col=\"Date\")\n",
    "cac40 = cac40.loc['2024-01-01':]\n",
    "cac40_evolution = cac40['^FCHI']/cac40['^FCHI'].iloc[0]\n",
    "\n",
    "returns = cac40.drop(columns=['^FCHI']).pct_change().dropna()\n",
    "tickers = returns.columns\n",
    "T,N = returns.shape"
   ]
  },
  {
   "cell_type": "markdown",
   "id": "bc11b6bb",
   "metadata": {},
   "source": [
    "# Optimisation Problem"
   ]
  },
  {
   "cell_type": "markdown",
   "id": "3e163218",
   "metadata": {},
   "source": [
    "## Weights initialisation"
   ]
  },
  {
   "cell_type": "code",
   "execution_count": 61,
   "id": "13389a9a",
   "metadata": {},
   "outputs": [
    {
     "data": {
      "application/vnd.microsoft.datawrangler.viewer.v0+json": {
       "columns": [
        {
         "name": "index",
         "rawType": "object",
         "type": "string"
        },
        {
         "name": "Init weights",
         "rawType": "float64",
         "type": "float"
        }
       ],
       "ref": "12b74f29-f51a-4968-be75-17107a9652e4",
       "rows": [
        [
         "AC.PA",
         "0.2"
        ],
        [
         "BN.PA",
         "0.2"
        ],
        [
         "BVI.PA",
         "0.1123"
        ],
        [
         "EL.PA",
         "0.2"
        ],
        [
         "ENGI.PA",
         "0.0055"
        ],
        [
         "ORA.PA",
         "0.0186"
        ],
        [
         "PUB.PA",
         "0.0272"
        ],
        [
         "RNO.PA",
         "0.0791"
        ],
        [
         "SAF.PA",
         "0.1331"
        ],
        [
         "SAN.PA",
         "0.0242"
        ]
       ],
       "shape": {
        "columns": 1,
        "rows": 10
       }
      },
      "text/html": [
       "<div>\n",
       "<style scoped>\n",
       "    .dataframe tbody tr th:only-of-type {\n",
       "        vertical-align: middle;\n",
       "    }\n",
       "\n",
       "    .dataframe tbody tr th {\n",
       "        vertical-align: top;\n",
       "    }\n",
       "\n",
       "    .dataframe thead th {\n",
       "        text-align: right;\n",
       "    }\n",
       "</style>\n",
       "<table border=\"1\" class=\"dataframe\">\n",
       "  <thead>\n",
       "    <tr style=\"text-align: right;\">\n",
       "      <th></th>\n",
       "      <th>Init weights</th>\n",
       "    </tr>\n",
       "  </thead>\n",
       "  <tbody>\n",
       "    <tr>\n",
       "      <th>AC.PA</th>\n",
       "      <td>0.2000</td>\n",
       "    </tr>\n",
       "    <tr>\n",
       "      <th>BN.PA</th>\n",
       "      <td>0.2000</td>\n",
       "    </tr>\n",
       "    <tr>\n",
       "      <th>BVI.PA</th>\n",
       "      <td>0.1123</td>\n",
       "    </tr>\n",
       "    <tr>\n",
       "      <th>EL.PA</th>\n",
       "      <td>0.2000</td>\n",
       "    </tr>\n",
       "    <tr>\n",
       "      <th>ENGI.PA</th>\n",
       "      <td>0.0055</td>\n",
       "    </tr>\n",
       "    <tr>\n",
       "      <th>ORA.PA</th>\n",
       "      <td>0.0186</td>\n",
       "    </tr>\n",
       "    <tr>\n",
       "      <th>PUB.PA</th>\n",
       "      <td>0.0272</td>\n",
       "    </tr>\n",
       "    <tr>\n",
       "      <th>RNO.PA</th>\n",
       "      <td>0.0791</td>\n",
       "    </tr>\n",
       "    <tr>\n",
       "      <th>SAF.PA</th>\n",
       "      <td>0.1331</td>\n",
       "    </tr>\n",
       "    <tr>\n",
       "      <th>SAN.PA</th>\n",
       "      <td>0.0242</td>\n",
       "    </tr>\n",
       "  </tbody>\n",
       "</table>\n",
       "</div>"
      ],
      "text/plain": [
       "         Init weights\n",
       "AC.PA          0.2000\n",
       "BN.PA          0.2000\n",
       "BVI.PA         0.1123\n",
       "EL.PA          0.2000\n",
       "ENGI.PA        0.0055\n",
       "ORA.PA         0.0186\n",
       "PUB.PA         0.0272\n",
       "RNO.PA         0.0791\n",
       "SAF.PA         0.1331\n",
       "SAN.PA         0.0242"
      ]
     },
     "execution_count": 61,
     "metadata": {},
     "output_type": "execute_result"
    }
   ],
   "source": [
    "# Initialisation window: Jan 22 - Dec 24\n",
    "returns_init = returns.loc[:'2025-01-01'].to_numpy()\n",
    "w = cvx.Variable(N)\n",
    "portfolio_value = cvx.cumprod(1 + returns_init@w )\n",
    "\n",
    "# Expected log-growth\n",
    "g = cvx.mean( cvx.log( 1 + returns_init@w ) , axis=0)\n",
    "\n",
    "# Volatility as variance \n",
    "variance = cvx.var(returns_init@w)\n",
    "\n",
    "# Problem formulation\n",
    "objective = cvx.Maximize(g)\n",
    "constraints = [w>=0,w<=0.2, cvx.sum(w)==1,variance<=5e-5]\n",
    "kelly_opt = cvx.Problem(objective=objective,constraints=constraints)\n",
    "kelly_opt.solve()\n",
    "w_0 = np.round(w.value,4)\n",
    "\n",
    "weights = pd.DataFrame(w_0,index=tickers,columns=['Init weights'])\n",
    "weights[weights!=0].dropna()"
   ]
  },
  {
   "cell_type": "code",
   "execution_count": 63,
   "id": "f0e1c4d5",
   "metadata": {},
   "outputs": [
    {
     "name": "stdout",
     "output_type": "stream",
     "text": [
      "Portfolio Raw Retrun: 1.304\n"
     ]
    },
    {
     "data": {
      "image/png": "[encoded data removed]",
      "text/plain": [
       "<Figure size 640x480 with 1 Axes>"
      ]
     },
     "metadata": {},
     "output_type": "display_data"
    }
   ],
   "source": [
    "# Overlook of initial portfolio\n",
    "print(f'Portfolio Raw Retrun: {portfolio_value.value[-1]:.3f}')\n",
    "plt.plot(portfolio_value.value)\n",
    "plt.title(\"Evolution of portfolio value\")\n",
    "plt.xlabel('time (days)')\n",
    "plt.ylabel('Value, V(t=0) = 1')\n",
    "plt.show()"
   ]
  },
  {
   "cell_type": "markdown",
   "id": "63ad10e2",
   "metadata": {},
   "source": [
    "## Dynamic re-allocation"
   ]
  },
  {
   "cell_type": "code",
   "execution_count": null,
   "id": "7c1da878",
   "metadata": {},
   "outputs": [],
   "source": []
  },
  {
   "cell_type": "markdown",
   "id": "9a21be93",
   "metadata": {},
   "source": [
    "# Results analysis"
   ]
  },
  {
   "cell_type": "markdown",
   "id": "66136e3c",
   "metadata": {},
   "source": [
    "## Influence of the time window"
   ]
  },
  {
   "cell_type": "markdown",
   "id": "aeaef395",
   "metadata": {},
   "source": [
    "## Influence of the turnover constraint"
   ]
  }
 ],
 "metadata": {
  "kernelspec": {
   "display_name": "Python 3",
   "language": "python",
   "name": "python3"
  },
  "language_info": {
   "codemirror_mode": {
    "name": "ipython",
    "version": 3
   },
   "file_extension": ".py",
   "mimetype": "text/x-python",
   "name": "python",
   "nbconvert_exporter": "python",
   "pygments_lexer": "ipython3",
   "version": "3.12.0"
  }
 },
 "nbformat": 4,
 "nbformat_minor": 5
}
